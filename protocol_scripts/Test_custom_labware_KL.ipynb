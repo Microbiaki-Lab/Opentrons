{
 "cells": [
  {
   "cell_type": "code",
   "execution_count": 6,
   "metadata": {},
   "outputs": [
    {
     "data": {
      "text/plain": [
       "0"
      ]
     },
     "execution_count": 6,
     "metadata": {},
     "output_type": "execute_result"
    }
   ],
   "source": [
    "import os\n",
    "os.system(\"systemctl stop opentrons-robot-server\")\n",
    "#os.system(\"systemctl start opentrons-robot-server\")"
   ]
  },
  {
   "cell_type": "code",
   "execution_count": 7,
   "metadata": {},
   "outputs": [],
   "source": [
    "import opentrons.execute\n",
    "protocol = opentrons.execute.get_protocol_api('2.11')\n",
    "protocol.home()"
   ]
  },
  {
   "cell_type": "code",
   "execution_count": 8,
   "metadata": {},
   "outputs": [
    {
     "ename": "FileNotFoundError",
     "evalue": "Unable to find a labware\n        definition for \"tethystestrun2\",\n        version 1, in the opentrons namespace.\n        Please confirm your protocol includes the correct\n        labware spelling and (optionally) the correct version\n        number and namespace.\n\n        If you are referencing a custom labware in your\n        protocol, you must add it to your Custom Labware\n        Definitions Folder from the Opentrons App before\n        uploading your protocol.\n        ",
     "output_type": "error",
     "traceback": [
      "\u001b[0;31m---------------------------------------------------------------------------\u001b[0m",
      "\u001b[0;31mFileNotFoundError\u001b[0m                         Traceback (most recent call last)",
      "\u001b[0;32m<ipython-input-8-d47d4d46e9a5>\u001b[0m in \u001b[0;36m<module>\u001b[0;34m()\u001b[0m\n\u001b[1;32m     10\u001b[0m \u001b[0;34m\u001b[0m\u001b[0m\n\u001b[1;32m     11\u001b[0m \u001b[0mprotocol\u001b[0m \u001b[0;34m=\u001b[0m \u001b[0mopentrons\u001b[0m\u001b[0;34m.\u001b[0m\u001b[0mexecute\u001b[0m\u001b[0;34m.\u001b[0m\u001b[0mget_protocol_api\u001b[0m\u001b[0;34m(\u001b[0m\u001b[0;34m'2.11'\u001b[0m\u001b[0;34m)\u001b[0m\u001b[0;34m\u001b[0m\u001b[0;34m\u001b[0m\u001b[0m\n\u001b[0;32m---> 12\u001b[0;31m \u001b[0mrun\u001b[0m\u001b[0;34m(\u001b[0m\u001b[0mprotocol\u001b[0m\u001b[0;34m)\u001b[0m\u001b[0;34m\u001b[0m\u001b[0;34m\u001b[0m\u001b[0m\n\u001b[0m",
      "\u001b[0;32m<ipython-input-8-d47d4d46e9a5>\u001b[0m in \u001b[0;36mrun\u001b[0;34m(protocol)\u001b[0m\n\u001b[1;32m      3\u001b[0m \u001b[0;32mdef\u001b[0m \u001b[0mrun\u001b[0m\u001b[0;34m(\u001b[0m\u001b[0mprotocol\u001b[0m\u001b[0;34m:\u001b[0m \u001b[0mprotocol_api\u001b[0m\u001b[0;34m.\u001b[0m\u001b[0mProtocolContext\u001b[0m\u001b[0;34m)\u001b[0m\u001b[0;34m:\u001b[0m\u001b[0;34m\u001b[0m\u001b[0;34m\u001b[0m\u001b[0m\n\u001b[1;32m      4\u001b[0m     \u001b[0mprotocol\u001b[0m\u001b[0;34m.\u001b[0m\u001b[0mhome\u001b[0m\u001b[0;34m(\u001b[0m\u001b[0;34m)\u001b[0m\u001b[0;34m\u001b[0m\u001b[0;34m\u001b[0m\u001b[0m\n\u001b[0;32m----> 5\u001b[0;31m     \u001b[0mplate\u001b[0m \u001b[0;34m=\u001b[0m \u001b[0mprotocol\u001b[0m\u001b[0;34m.\u001b[0m\u001b[0mload_labware\u001b[0m\u001b[0;34m(\u001b[0m\u001b[0;34m'tethystestrun2'\u001b[0m\u001b[0;34m,\u001b[0m \u001b[0;36m1\u001b[0m\u001b[0;34m)\u001b[0m\u001b[0;34m\u001b[0m\u001b[0;34m\u001b[0m\u001b[0m\n\u001b[0m\u001b[1;32m      6\u001b[0m     \u001b[0mtiprack_multi\u001b[0m \u001b[0;34m=\u001b[0m \u001b[0mprotocol\u001b[0m\u001b[0;34m.\u001b[0m\u001b[0mload_labware\u001b[0m\u001b[0;34m(\u001b[0m\u001b[0;34m'opentrons_96_tiprack_300ul'\u001b[0m\u001b[0;34m,\u001b[0m \u001b[0;36m2\u001b[0m\u001b[0;34m)\u001b[0m\u001b[0;34m\u001b[0m\u001b[0;34m\u001b[0m\u001b[0m\n\u001b[1;32m      7\u001b[0m     \u001b[0mpipette_multi\u001b[0m \u001b[0;34m=\u001b[0m \u001b[0mprotocol\u001b[0m\u001b[0;34m.\u001b[0m\u001b[0mload_instrument\u001b[0m\u001b[0;34m(\u001b[0m\u001b[0;34m'p300_multi'\u001b[0m\u001b[0;34m,\u001b[0m \u001b[0mmount\u001b[0m \u001b[0;34m=\u001b[0m \u001b[0;34m'right'\u001b[0m\u001b[0;34m,\u001b[0m \u001b[0mtip_racks\u001b[0m\u001b[0;34m=\u001b[0m\u001b[0;34m[\u001b[0m\u001b[0mtiprack_multi\u001b[0m\u001b[0;34m]\u001b[0m\u001b[0;34m)\u001b[0m\u001b[0;34m\u001b[0m\u001b[0;34m\u001b[0m\u001b[0m\n",
      "\u001b[0;32m/usr/lib/python3.7/site-packages/opentrons/protocols/api_support/util.pyc\u001b[0m in \u001b[0;36m_check_version_wrapper\u001b[0;34m(*args, **kwargs)\u001b[0m\n",
      "\u001b[0;32m/usr/lib/python3.7/site-packages/opentrons/protocol_api/protocol_context.pyc\u001b[0m in \u001b[0;36mload_labware\u001b[0;34m(self, load_name, location, label, namespace, version)\u001b[0m\n",
      "\u001b[0;32m/usr/lib/python3.7/site-packages/opentrons/protocols/context/protocol_api/protocol_context.pyc\u001b[0m in \u001b[0;36mload_labware\u001b[0;34m(self, load_name, location, label, namespace, version)\u001b[0m\n",
      "\u001b[0;32m/usr/lib/python3.7/site-packages/opentrons/protocols/labware/definition.pyc\u001b[0m in \u001b[0;36mget_labware_definition\u001b[0;34m(load_name, namespace, version, bundled_defs, extra_defs)\u001b[0m\n",
      "\u001b[0;32m/usr/lib/python3.7/site-packages/opentrons/protocols/labware/definition.pyc\u001b[0m in \u001b[0;36m_get_standard_labware_definition\u001b[0;34m(load_name, namespace, version)\u001b[0m\n",
      "\u001b[0;31mFileNotFoundError\u001b[0m: Unable to find a labware\n        definition for \"tethystestrun2\",\n        version 1, in the opentrons namespace.\n        Please confirm your protocol includes the correct\n        labware spelling and (optionally) the correct version\n        number and namespace.\n\n        If you are referencing a custom labware in your\n        protocol, you must add it to your Custom Labware\n        Definitions Folder from the Opentrons App before\n        uploading your protocol.\n        "
     ]
    }
   ],
   "source": [
    "from opentrons import protocol_api\n",
    "\n",
    "def run(protocol: protocol_api.ProtocolContext):\n",
    "    protocol.home()\n",
    "    plate = protocol.load_labware('tethystestrun2', 1)\n",
    "    tiprack_multi = protocol.load_labware('opentrons_96_tiprack_300ul', 2)\n",
    "    pipette_multi = protocol.load_instrument('p300_multi', mount = 'right', tip_racks=[tiprack_multi])\n",
    "    \n",
    "    pipette_multi.transfer(100, plate.wells_by_name()['A1'], plate.wells_by_name()['A2'])\n",
    "    \n",
    "protocol = opentrons.execute.get_protocol_api('2.11')\n",
    "run(protocol)"
   ]
  },
  {
   "cell_type": "code",
   "execution_count": null,
   "metadata": {},
   "outputs": [],
   "source": []
  }
 ],
 "metadata": {
  "kernelspec": {
   "display_name": "Python 3",
   "language": "python",
   "name": "python3"
  },
  "language_info": {
   "codemirror_mode": {
    "name": "ipython",
    "version": 3
   },
   "file_extension": ".py",
   "mimetype": "text/x-python",
   "name": "python",
   "nbconvert_exporter": "python",
   "pygments_lexer": "ipython3",
   "version": "3.7.1"
  }
 },
 "nbformat": 4,
 "nbformat_minor": 2
}
